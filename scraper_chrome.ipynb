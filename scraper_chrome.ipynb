{
 "cells": [
  {
   "cell_type": "markdown",
   "metadata": {},
   "source": [
    "# DATA SCIENCE JOB MARKET ANALYSIS"
   ]
  },
  {
   "cell_type": "markdown",
   "metadata": {},
   "source": [
    "## 1. Web Scraping using Selenium"
   ]
  },
  {
   "cell_type": "code",
   "execution_count": 4,
   "metadata": {},
   "outputs": [],
   "source": [
    "import time\n",
    "from selenium import webdriver\n",
    "import pandas as pd\n",
    "from selenium.webdriver.common.by import By\n",
    "from selenium.webdriver.support.ui import WebDriverWait\n",
    "from selenium.webdriver.support import expected_conditions as EC\n",
    "import csv\n"
   ]
  },
  {
   "cell_type": "markdown",
   "metadata": {},
   "source": [
    "## Step-by-Step: How to Know What to Use in Selenium\n",
    "### 1. Open the Website in Your Browser (Google Chrome)\n",
    "For example:\n",
    "\n",
    "https://www.naukri.com/data-scientist-jobs-1\n",
    "\n",
    "### 2. Right-Click on the Element You Want to Scrape\n",
    "Let’s say you want to grab the job title or company name.\n",
    "\n",
    "Right-click the job title → Click “Inspect”\n",
    "\n",
    "Your browser's Developer Tools (DevTools) will open, and the corresponding HTML element will be highlighted.\n",
    "\n",
    "### 3. Identify the HTML Tag and Class/ID\n",
    "For example:\n",
    "\n",
    "```bash\n",
    "<div class=\"cust-job-tuple\">\n",
    "  <a class=\"title\" href=\"...\">Data Scientist</a>\n",
    "  <a class=\"comp-name\">ABC Corp</a>\n",
    "  <span class=\"exp\">\n",
    "    <span class=\"expwdth\">2-5 Yrs</span>\n",
    "  </span>\n",
    "```\n",
    "\n",
    "From this structure, you figure out the correct CSS Selectors:\n",
    "\n",
    "- Job card wrapper -->\tdiv.cust-job-tuple\n",
    "\n",
    "- Role/title\t-->  a.title\n",
    "\n",
    "- Company\t-->  a.comp-name\n",
    "\n",
    "- Experience\t-->  span.exp span.expwdth\n",
    "\n",
    "- Location\t-->  span.loc span.locWdth"
   ]
  },
  {
   "cell_type": "code",
   "execution_count": 5,
   "metadata": {},
   "outputs": [],
   "source": [
    "driver = webdriver.Chrome()\n",
    "driver.maximize_window()\n",
    "\n",
    "jobs = {\n",
    "    \"roles\": [],\n",
    "    \"companies\": [],\n",
    "    \"locations\": [],\n",
    "    \"experience\": [],\n",
    "    \"skills\": []\n",
    "}\n",
    "\n",
    "for i in range(50):\n",
    "    driver.get(f\"https://www.naukri.com/data-scientist-jobs-{i}\")\n",
    "    \n",
    "    WebDriverWait(driver, 10).until(\n",
    "        EC.presence_of_element_located((By.CSS_SELECTOR, \"div.cust-job-tuple\"))\n",
    "    )\n",
    "    \n",
    "    job_cards = driver.find_elements(By.CSS_SELECTOR, \"div.cust-job-tuple\")\n",
    "\n",
    "    for job in job_cards:\n",
    "        try:\n",
    "            role = job.find_element(By.CSS_SELECTOR, \"a.title\").text.strip()\n",
    "        except:\n",
    "            role = \"\"\n",
    "        try:\n",
    "            company = job.find_element(By.CSS_SELECTOR, \"a.comp-name\").text.strip()\n",
    "        except:\n",
    "            company = \"\"\n",
    "        try:\n",
    "            exp = job.find_element(By.CSS_SELECTOR, \"span.exp span.expwdth\").text.strip()\n",
    "        except:\n",
    "            exp = \"\"\n",
    "        try:\n",
    "            location = job.find_element(By.CSS_SELECTOR, \"span.loc span.locWdth\").text.strip()\n",
    "        except:\n",
    "            location = \"\"\n",
    "        try:\n",
    "            # finds all <li> elements inside a <ul> with the class tags-gt, within a specific job HTML element.\n",
    "            # The result is a list of WebElement objects (each representing a skill tag).\n",
    "            skills_list = job.find_elements(By.CSS_SELECTOR, \"ul.tags-gt li\")\n",
    "\n",
    "            # Loops over to extract each elements, then strips whitespaces,\n",
    "            # then joins all skills into a single string, separated by commas.\n",
    "            skills = ', '.join([s.text.strip() for s in skills_list])\n",
    "        except:\n",
    "            skills = \"\"\n",
    "\n",
    "        jobs[\"roles\"].append(role)\n",
    "        jobs[\"companies\"].append(company)\n",
    "        jobs[\"locations\"].append(location)\n",
    "        jobs[\"experience\"].append(exp)\n",
    "        jobs[\"skills\"].append(skills)"
   ]
  },
  {
   "cell_type": "code",
   "execution_count": 6,
   "metadata": {
    "scrolled": true
   },
   "outputs": [],
   "source": [
    "import pandas as pd\n",
    "DS_jobs_df=pd.DataFrame(jobs)\n",
    "DS_jobs_df.to_csv(\"DataScience_jobs.csv\")"
   ]
  },
  {
   "cell_type": "markdown",
   "metadata": {},
   "source": [
    "### The scraped data will be saved in the current project directory as \"DataScience_jobs.csv\"."
   ]
  }
 ],
 "metadata": {
  "kernelspec": {
   "display_name": ".venv",
   "language": "python",
   "name": "python3"
  },
  "language_info": {
   "codemirror_mode": {
    "name": "ipython",
    "version": 3
   },
   "file_extension": ".py",
   "mimetype": "text/x-python",
   "name": "python",
   "nbconvert_exporter": "python",
   "pygments_lexer": "ipython3",
   "version": "3.12.5"
  }
 },
 "nbformat": 4,
 "nbformat_minor": 4
}
